{
 "cells": [
  {
   "cell_type": "code",
   "execution_count": 1,
   "id": "4c13dde8",
   "metadata": {},
   "outputs": [
    {
     "name": "stderr",
     "output_type": "stream",
     "text": [
      "/home/lumargot/.local/lib/python3.9/site-packages/tqdm/auto.py:22: TqdmWarning: IProgress not found. Please update jupyter and ipywidgets. See https://ipywidgets.readthedocs.io/en/stable/user_install.html\n",
      "  from .autonotebook import tqdm as notebook_tqdm\n"
     ]
    }
   ],
   "source": [
    "import sys\n",
    "sys.path.append('/home/lumargot/ShapeAXI/src')\n",
    "from shapeaxi.saxi_dataset import SaxiDataModuleVF"
   ]
  },
  {
   "cell_type": "code",
   "execution_count": 2,
   "id": "dc3a297b",
   "metadata": {},
   "outputs": [],
   "source": [
    "import os\n",
    "import torch\n",
    "from torch import nn\n",
    "from pytorch3d.ops import sample_points_from_meshes\n",
    "import numpy as np\n",
    "\n",
    "import plotly.graph_objects as go\n",
    "import plotly.express as px\n",
    "from pytorch3d.vis.plotly_vis import plot_scene\n",
    "from pytorch3d.structures import (\n",
    "    Meshes,\n",
    "    Pointclouds,)\n",
    "    \n",
    "import sys\n",
    "sys.path.append('/home/lumargot/ShapeAXI/src')\n",
    "from shapeaxi.saxi_dataset import SaxiDataModuleVF, SaxiPCDataModule\n",
    "import pandas as pd\n",
    "from tqdm import tqdm "
   ]
  },
  {
   "cell_type": "code",
   "execution_count": 3,
   "id": "cbfc20e8",
   "metadata": {},
   "outputs": [],
   "source": [
    "from shapeaxi.saxi_transforms import TrainTransform, EvalTransform\n",
    "from shapeaxi import utils "
   ]
  },
  {
   "cell_type": "code",
   "execution_count": 4,
   "id": "80d5e19e",
   "metadata": {},
   "outputs": [],
   "source": [
    "df = pd.read_csv(\"/CMF/data/lumargot/DCBIA/Combined/csv/condyles_4classes_consensus_Marcela.csv\")"
   ]
  },
  {
   "cell_type": "code",
   "execution_count": 5,
   "id": "74311387",
   "metadata": {},
   "outputs": [
    {
     "name": "stderr",
     "output_type": "stream",
     "text": [
      "surf_scale=0.0609600900973719: 100%|██████████| 389/389 [00:01<00:00, 361.84it/s]  \n"
     ]
    }
   ],
   "source": [
    "surf_scales = []\n",
    "pbar = tqdm(df.iterrows(), total=len(df))\n",
    "\n",
    "for idx, row in pbar:\n",
    "    surf = utils.ReadSurf(row['surf'])\n",
    "\n",
    "    unit_surf, surf_mean, surf_scale = utils.ScaleSurf(surf)\n",
    "    surf_scales.append(surf_scale)\n",
    "\n",
    "    pbar.set_description('surf_scale={surf_scale}'.format(surf_scale=surf_scale))\n",
    "\n",
    "surf_scales = np.array(surf_scales)\n",
    "min_scale = np.min(surf_scales)\n"
   ]
  },
  {
   "cell_type": "code",
   "execution_count": 6,
   "id": "75497229",
   "metadata": {},
   "outputs": [
    {
     "data": {
      "text/plain": [
       "0.05071661913144526"
      ]
     },
     "execution_count": 6,
     "metadata": {},
     "output_type": "execute_result"
    }
   ],
   "source": [
    "min_scale"
   ]
  },
  {
   "cell_type": "code",
   "execution_count": 7,
   "id": "f2e93df9",
   "metadata": {},
   "outputs": [],
   "source": [
    "batch_size = 1\n",
    "dm = SaxiDataModuleVF(\n",
    "    csv_train=\"/CMF/data/lumargot/DCBIA/Combined/csv/condyles_4classes_consensus_Marcela.csv\",\n",
    "    csv_valid=\"/CMF/data/lumargot/DCBIA/Combined/csv/condyles_4classes_consensus_Marcela.csv\",\n",
    "    csv_test=\"/CMF/data/lumargot/DCBIA/Combined/csv/condyles_4classes_consensus_Marcela.csv\",\n",
    "    mount_point=\"\",\n",
    "    batch_size=batch_size,\n",
    "    num_workers=1,\n",
    "    surf_column=\"surf\",\n",
    "    drop_last=False,\n",
    "    train_transform = EvalTransform(scale_factor=min_scale),\n",
    "    valid_transform = EvalTransform(scale_factor=min_scale),\n",
    "    test_transform = EvalTransform(scale_factor=min_scale),\n",
    "    )\n",
    "dm.setup()\n",
    "train_loader = dm.train_dataloader()"
   ]
  },
  {
   "cell_type": "code",
   "execution_count": 8,
   "id": "498924c5",
   "metadata": {},
   "outputs": [],
   "source": [
    "from tqdm import tqdm\n",
    "from shapeaxi.saxi_nets import HilbertSort3D"
   ]
  },
  {
   "cell_type": "code",
   "execution_count": 9,
   "id": "ce180ad0",
   "metadata": {},
   "outputs": [],
   "source": [
    "data_out = '/CMF/data/lumargot/DCBIA/Combined/4096_npy/'\n",
    "\n",
    "num_points = 64\n",
    "N = num_points*num_points\n",
    "# N=4096"
   ]
  },
  {
   "cell_type": "code",
   "execution_count": 10,
   "id": "e2f59030",
   "metadata": {},
   "outputs": [
    {
     "name": "stderr",
     "output_type": "stream",
     "text": [
      "100%|██████████| 389/389 [00:12<00:00, 32.11it/s]\n"
     ]
    }
   ],
   "source": [
    "list_npy = []\n",
    "for idx, batch in tqdm(enumerate(train_loader), total=len(train_loader)):\n",
    "  V,F = batch\n",
    "\n",
    "  mesh_batch = Meshes(verts=V, faces=F)\n",
    "  P = sample_points_from_meshes(mesh_batch, N)\n",
    "\n",
    "  # sorter_pt = HilbertSort3D(radius=1.25, bins=num_points)\n",
    "  # p_sorted_pt = sorter_pt(P)[0]\n",
    "  # p_rgb = p_sorted_pt.view(-1, num_points, num_points, 3).squeeze(0).detach().cpu().numpy()\n",
    "  # p_rgb = p_rgb - p_rgb.min()\n",
    "  # p_rgb = p_rgb / p_rgb.max()\n",
    "\n",
    "  \n",
    "\n",
    "  filepath = train_loader.dataset.getSurfPath(idx)\n",
    "  sample_name = os.path.splitext(os.path.basename(filepath))[0]\n",
    "  outfile = os.path.join(data_out, sample_name +'.npy')\n",
    "\n",
    "  np.save(outfile, P)\n",
    "  # list_npy.append(outfile)\n",
    "\n",
    "# df['hilbert_space'] = list_npy"
   ]
  },
  {
   "cell_type": "code",
   "execution_count": null,
   "id": "777f772e",
   "metadata": {},
   "outputs": [],
   "source": []
  },
  {
   "cell_type": "code",
   "execution_count": 11,
   "id": "edd1d60a",
   "metadata": {},
   "outputs": [
    {
     "ename": "NameError",
     "evalue": "name 'input_csv' is not defined",
     "output_type": "error",
     "traceback": [
      "\u001b[0;31m---------------------------------------------------------------------------\u001b[0m",
      "\u001b[0;31mNameError\u001b[0m                                 Traceback (most recent call last)",
      "Cell \u001b[0;32mIn[11], line 1\u001b[0m\n\u001b[0;32m----> 1\u001b[0m df\u001b[38;5;241m.\u001b[39mto_csv(\u001b[43minput_csv\u001b[49m)\n",
      "\u001b[0;31mNameError\u001b[0m: name 'input_csv' is not defined"
     ]
    }
   ],
   "source": [
    "df.to_csv(input_csv)"
   ]
  },
  {
   "cell_type": "code",
   "execution_count": null,
   "id": "1d353840",
   "metadata": {},
   "outputs": [],
   "source": [
    "dir_csv = \"/CMF/data/lumargot/DCBIA/Combined/csv/\""
   ]
  },
  {
   "cell_type": "code",
   "execution_count": null,
   "id": "b147f986",
   "metadata": {},
   "outputs": [],
   "source": [
    "for csv_name in os.listdir(dir_csv):\n",
    "  if 'Marcela_' in csv_name:\n",
    "    file_i =  os.path.join(dir_csv, csv_name)\n",
    "    df_i = pd.read_csv(file_i)\n",
    "\n",
    "    df_i['hilbert_space'] = df_i.apply(lambda x: os.path.join(data_out, os.path.splitext(os.path.basename(x['surf']))[0] +'.npy'), \n",
    "                                       axis=1)\n",
    "    # for idx, row in df_i.iterrows():\n",
    "      # print(os.path.exists(row['hilbert_space']), row['hilbert_space'])\n",
    "\n",
    "    df_i.to_csv(file_i)"
   ]
  },
  {
   "cell_type": "code",
   "execution_count": null,
   "id": "a3008c15",
   "metadata": {},
   "outputs": [
    {
     "data": {
      "text/html": [
       "<div>\n",
       "<style scoped>\n",
       "    .dataframe tbody tr th:only-of-type {\n",
       "        vertical-align: middle;\n",
       "    }\n",
       "\n",
       "    .dataframe tbody tr th {\n",
       "        vertical-align: top;\n",
       "    }\n",
       "\n",
       "    .dataframe thead th {\n",
       "        text-align: right;\n",
       "    }\n",
       "</style>\n",
       "<table border=\"1\" class=\"dataframe\">\n",
       "  <thead>\n",
       "    <tr style=\"text-align: right;\">\n",
       "      <th></th>\n",
       "      <th>Unnamed: 0.1</th>\n",
       "      <th>Unnamed: 0</th>\n",
       "      <th>id</th>\n",
       "      <th>class_consensus</th>\n",
       "      <th>surf</th>\n",
       "      <th>bin_class</th>\n",
       "      <th>hilbert_space</th>\n",
       "    </tr>\n",
       "  </thead>\n",
       "  <tbody>\n",
       "    <tr>\n",
       "      <th>0</th>\n",
       "      <td>76</td>\n",
       "      <td>76</td>\n",
       "      <td>DJ110124R</td>\n",
       "      <td>1</td>\n",
       "      <td>/work/jprieto/data/DCBIA/4_Clipped_VTKs_323_co...</td>\n",
       "      <td>1</td>\n",
       "      <td>/CMF/data/lumargot/DCBIA/Combined/npy/DJ110124...</td>\n",
       "    </tr>\n",
       "    <tr>\n",
       "      <th>1</th>\n",
       "      <td>139</td>\n",
       "      <td>139</td>\n",
       "      <td>MM120610L</td>\n",
       "      <td>3</td>\n",
       "      <td>/work/jprieto/data/DCBIA/4_Clipped_VTKs_323_co...</td>\n",
       "      <td>1</td>\n",
       "      <td>/CMF/data/lumargot/DCBIA/Combined/npy/MM120610...</td>\n",
       "    </tr>\n",
       "    <tr>\n",
       "      <th>2</th>\n",
       "      <td>107</td>\n",
       "      <td>107</td>\n",
       "      <td>HH100615L</td>\n",
       "      <td>3</td>\n",
       "      <td>/work/jprieto/data/DCBIA/4_Clipped_VTKs_323_co...</td>\n",
       "      <td>1</td>\n",
       "      <td>/CMF/data/lumargot/DCBIA/Combined/npy/HH100615...</td>\n",
       "    </tr>\n",
       "    <tr>\n",
       "      <th>3</th>\n",
       "      <td>298</td>\n",
       "      <td>298</td>\n",
       "      <td>p0020 LeftMI</td>\n",
       "      <td>1</td>\n",
       "      <td>/CMF/data/lumargot/DCBIA/DJD/data/p0020_T1_Mod...</td>\n",
       "      <td>1</td>\n",
       "      <td>/CMF/data/lumargot/DCBIA/Combined/npy/p0020_T1...</td>\n",
       "    </tr>\n",
       "    <tr>\n",
       "      <th>4</th>\n",
       "      <td>274</td>\n",
       "      <td>274</td>\n",
       "      <td>r_189_T1 Right</td>\n",
       "      <td>0</td>\n",
       "      <td>/CMF/data/lumargot/DCBIA/DJD/data/r_189_T1_Rig...</td>\n",
       "      <td>0</td>\n",
       "      <td>/CMF/data/lumargot/DCBIA/Combined/npy/r_189_T1...</td>\n",
       "    </tr>\n",
       "    <tr>\n",
       "      <th>...</th>\n",
       "      <td>...</td>\n",
       "      <td>...</td>\n",
       "      <td>...</td>\n",
       "      <td>...</td>\n",
       "      <td>...</td>\n",
       "      <td>...</td>\n",
       "      <td>...</td>\n",
       "    </tr>\n",
       "    <tr>\n",
       "      <th>72</th>\n",
       "      <td>216</td>\n",
       "      <td>216</td>\n",
       "      <td>r_6_T1 Right</td>\n",
       "      <td>1</td>\n",
       "      <td>/CMF/data/lumargot/DCBIA/DJD/data/r_6_T1_Right...</td>\n",
       "      <td>1</td>\n",
       "      <td>/CMF/data/lumargot/DCBIA/Combined/npy/r_6_T1_R...</td>\n",
       "    </tr>\n",
       "    <tr>\n",
       "      <th>73</th>\n",
       "      <td>330</td>\n",
       "      <td>330</td>\n",
       "      <td>r_94_T1 LeftMI</td>\n",
       "      <td>0</td>\n",
       "      <td>/CMF/data/lumargot/DCBIA/DJD/data/r_94_T1_Left...</td>\n",
       "      <td>0</td>\n",
       "      <td>/CMF/data/lumargot/DCBIA/Combined/npy/r_94_T1_...</td>\n",
       "    </tr>\n",
       "    <tr>\n",
       "      <th>74</th>\n",
       "      <td>66</td>\n",
       "      <td>66</td>\n",
       "      <td>CMLM</td>\n",
       "      <td>2</td>\n",
       "      <td>/work/jprieto/data/DCBIA/4_Clipped_VTKs_323_co...</td>\n",
       "      <td>1</td>\n",
       "      <td>/CMF/data/lumargot/DCBIA/Combined/npy/CMLM.npy</td>\n",
       "    </tr>\n",
       "    <tr>\n",
       "      <th>75</th>\n",
       "      <td>90</td>\n",
       "      <td>90</td>\n",
       "      <td>FK120507L</td>\n",
       "      <td>3</td>\n",
       "      <td>/work/jprieto/data/DCBIA/4_Clipped_VTKs_323_co...</td>\n",
       "      <td>1</td>\n",
       "      <td>/CMF/data/lumargot/DCBIA/Combined/npy/FK120507...</td>\n",
       "    </tr>\n",
       "    <tr>\n",
       "      <th>76</th>\n",
       "      <td>296</td>\n",
       "      <td>296</td>\n",
       "      <td>p0019 LeftMI</td>\n",
       "      <td>3</td>\n",
       "      <td>/CMF/data/lumargot/DCBIA/DJD/data/p0019_T1_Mod...</td>\n",
       "      <td>1</td>\n",
       "      <td>/CMF/data/lumargot/DCBIA/Combined/npy/p0019_T1...</td>\n",
       "    </tr>\n",
       "  </tbody>\n",
       "</table>\n",
       "<p>77 rows × 7 columns</p>\n",
       "</div>"
      ],
      "text/plain": [
       "    Unnamed: 0.1  Unnamed: 0              id  class_consensus  \\\n",
       "0             76          76       DJ110124R                1   \n",
       "1            139         139       MM120610L                3   \n",
       "2            107         107       HH100615L                3   \n",
       "3            298         298    p0020 LeftMI                1   \n",
       "4            274         274  r_189_T1 Right                0   \n",
       "..           ...         ...             ...              ...   \n",
       "72           216         216    r_6_T1 Right                1   \n",
       "73           330         330  r_94_T1 LeftMI                0   \n",
       "74            66          66            CMLM                2   \n",
       "75            90          90       FK120507L                3   \n",
       "76           296         296    p0019 LeftMI                3   \n",
       "\n",
       "                                                 surf  bin_class  \\\n",
       "0   /work/jprieto/data/DCBIA/4_Clipped_VTKs_323_co...          1   \n",
       "1   /work/jprieto/data/DCBIA/4_Clipped_VTKs_323_co...          1   \n",
       "2   /work/jprieto/data/DCBIA/4_Clipped_VTKs_323_co...          1   \n",
       "3   /CMF/data/lumargot/DCBIA/DJD/data/p0020_T1_Mod...          1   \n",
       "4   /CMF/data/lumargot/DCBIA/DJD/data/r_189_T1_Rig...          0   \n",
       "..                                                ...        ...   \n",
       "72  /CMF/data/lumargot/DCBIA/DJD/data/r_6_T1_Right...          1   \n",
       "73  /CMF/data/lumargot/DCBIA/DJD/data/r_94_T1_Left...          0   \n",
       "74  /work/jprieto/data/DCBIA/4_Clipped_VTKs_323_co...          1   \n",
       "75  /work/jprieto/data/DCBIA/4_Clipped_VTKs_323_co...          1   \n",
       "76  /CMF/data/lumargot/DCBIA/DJD/data/p0019_T1_Mod...          1   \n",
       "\n",
       "                                        hilbert_space  \n",
       "0   /CMF/data/lumargot/DCBIA/Combined/npy/DJ110124...  \n",
       "1   /CMF/data/lumargot/DCBIA/Combined/npy/MM120610...  \n",
       "2   /CMF/data/lumargot/DCBIA/Combined/npy/HH100615...  \n",
       "3   /CMF/data/lumargot/DCBIA/Combined/npy/p0020_T1...  \n",
       "4   /CMF/data/lumargot/DCBIA/Combined/npy/r_189_T1...  \n",
       "..                                                ...  \n",
       "72  /CMF/data/lumargot/DCBIA/Combined/npy/r_6_T1_R...  \n",
       "73  /CMF/data/lumargot/DCBIA/Combined/npy/r_94_T1_...  \n",
       "74     /CMF/data/lumargot/DCBIA/Combined/npy/CMLM.npy  \n",
       "75  /CMF/data/lumargot/DCBIA/Combined/npy/FK120507...  \n",
       "76  /CMF/data/lumargot/DCBIA/Combined/npy/p0019_T1...  \n",
       "\n",
       "[77 rows x 7 columns]"
      ]
     },
     "execution_count": 84,
     "metadata": {},
     "output_type": "execute_result"
    }
   ],
   "source": [
    "df_i"
   ]
  },
  {
   "cell_type": "code",
   "execution_count": null,
   "id": "06103b8a",
   "metadata": {},
   "outputs": [],
   "source": [
    "row = df_i.iloc[0]"
   ]
  },
  {
   "cell_type": "code",
   "execution_count": null,
   "id": "96b55b95",
   "metadata": {},
   "outputs": [
    {
     "data": {
      "text/plain": [
       "'/work/jprieto/data/DCBIA/4_Clipped_VTKs_323_condyles/DJ110124R.vtk'"
      ]
     },
     "execution_count": 78,
     "metadata": {},
     "output_type": "execute_result"
    }
   ],
   "source": [
    "row['surf']"
   ]
  },
  {
   "cell_type": "code",
   "execution_count": null,
   "id": "103abd7a",
   "metadata": {},
   "outputs": [],
   "source": [
    "df_i['hilbert_space'] = df_i.apply(lambda x: os.path.join(data_out, os.path.splitext(os.path.basename(x['surf']))[0] +'.npy'), axis=1)"
   ]
  },
  {
   "cell_type": "code",
   "execution_count": null,
   "id": "b69891ef",
   "metadata": {},
   "outputs": [],
   "source": [
    "file_test = os.path.join(data_out, os.path.splitext(os.path.basename(row['surf']))[0] +'.npy')"
   ]
  },
  {
   "cell_type": "code",
   "execution_count": null,
   "id": "778950fa",
   "metadata": {},
   "outputs": [
    {
     "data": {
      "text/plain": [
       "True"
      ]
     },
     "execution_count": 82,
     "metadata": {},
     "output_type": "execute_result"
    }
   ],
   "source": [
    "os.path.exists(file_test)"
   ]
  },
  {
   "cell_type": "code",
   "execution_count": null,
   "id": "c69e8dcd",
   "metadata": {},
   "outputs": [],
   "source": []
  }
 ],
 "metadata": {
  "kernelspec": {
   "display_name": "flyby",
   "language": "python",
   "name": "python3"
  },
  "language_info": {
   "codemirror_mode": {
    "name": "ipython",
    "version": 3
   },
   "file_extension": ".py",
   "mimetype": "text/x-python",
   "name": "python",
   "nbconvert_exporter": "python",
   "pygments_lexer": "ipython3",
   "version": "3.9.13"
  }
 },
 "nbformat": 4,
 "nbformat_minor": 5
}
